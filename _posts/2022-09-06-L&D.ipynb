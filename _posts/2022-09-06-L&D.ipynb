{
 "cells": [
  {
   "cell_type": "markdown",
   "metadata": {},
   "source": [
    "# Lists & Dictionaries"
   ]
  },
  {
   "cell_type": "markdown",
   "metadata": {},
   "source": [
    "## Info DB"
   ]
  },
  {
   "cell_type": "code",
   "execution_count": 1,
   "metadata": {},
   "outputs": [
    {
     "name": "stdout",
     "output_type": "stream",
     "text": [
      "[{'FirstName': 'Chris', 'LastName': 'Albertson', 'MiddleName': 'Stewart', 'DOB': 'January 20', 'Residence': 'San Diego', 'Email': 'christopheralbertson@gmail.com', 'Owns_Cars': ['2022-Toyota Tacoma'], 'Favorite_Show': ['Breaking Bad'], 'Favorite_Games': ['GTA']}, {'FirstName': 'Eli', 'LastName': 'Gilmore', 'MiddleName': 'David', 'DOB': 'Aug 16', 'Residence': 'San Diego', 'Email': 'N/A', 'Owns_Cars': ['2016-Nissan Altima'], 'Favorite_Show': ['The Flash'], 'Favorite_Games': ['Minecraft']}]\n"
     ]
    }
   ],
   "source": [
    "InfoDb = []\n",
    "\n",
    "# Append to List a Dictionary of key/values related to a person and cars\n",
    "InfoDb.append({\n",
    "    \"FirstName\": \"Chris\",\n",
    "    \"LastName\": \"Albertson\",\n",
    "    \"MiddleName\": \"Stewart\",\n",
    "    \"DOB\": \"January 20\",\n",
    "    \"Residence\": \"San Diego\",\n",
    "    \"Email\": \"christopheralbertson@gmail.com\",\n",
    "    \"Owns_Cars\": [\"2022-Toyota Tacoma\"],\n",
    "    \"Favorite_Show\": [\"Breaking Bad\"],\n",
    "    \"Favorite_Games\": [\"GTA\"]\n",
    "})\n",
    "\n",
    "# Append to List a 2nd Dictionary of key/values\n",
    "InfoDb.append({\n",
    "    \"FirstName\": \"Eli\",\n",
    "    \"LastName\": \"Gilmore\",\n",
    "    \"MiddleName\": \"David\",\n",
    "    \"DOB\": \"Aug 16\",\n",
    "    \"Residence\": \"San Diego\",\n",
    "    \"Email\": \"N/A\",\n",
    "    \"Owns_Cars\": [\"2016-Nissan Altima\"],\n",
    "    \"Favorite_Show\": [\"The Flash\"],\n",
    "    \"Favorite_Games\": [\"Minecraft\"]\n",
    "})\n",
    "\n",
    "# Print the data structure\n",
    "print(InfoDb)"
   ]
  },
  {
   "cell_type": "markdown",
   "metadata": {},
   "source": [
    "## For Loop\n",
    "This is for loop example\n"
   ]
  },
  {
   "cell_type": "code",
   "execution_count": 2,
   "metadata": {},
   "outputs": [
    {
     "name": "stdout",
     "output_type": "stream",
     "text": [
      "For loop output\n",
      "\n",
      "Chris Stewart Albertson\n",
      "\t Residence: San Diego\n",
      "\t Birth Day: January 20\n",
      "\t Cars: 2022-Toyota Tacoma\n",
      "\t Show: Breaking Bad\n",
      "\t Games: GTA\n",
      "Eli David Gilmore\n",
      "\t Residence: San Diego\n",
      "\t Birth Day: Aug 16\n",
      "\t Cars: 2016-Nissan Altima\n",
      "\t Show: The Flash\n",
      "\t Games: Minecraft\n"
     ]
    }
   ],
   "source": [
    "def print_data(d_rec):\n",
    "    print(d_rec[\"FirstName\"], d_rec[\"MiddleName\"], d_rec[\"LastName\"])  # using comma puts space between values\n",
    "    print(\"\\t\", \"Residence:\", d_rec[\"Residence\"]) # \\t is a tab indent\n",
    "    print(\"\\t\", \"Birth Day:\", d_rec[\"DOB\"])\n",
    "    print(\"\\t\", \"Cars: \", end=\"\")  # end=\"\" make sure no return occurs\n",
    "    print(\", \".join(d_rec[\"Owns_Cars\"]))  # join allows printing a string list with separator\n",
    "    print(\"\\t\", \"Show: \", end=\"\")\n",
    "    print(\", \".join(d_rec[\"Favorite_Show\"]))\n",
    "    print(\"\\t\", \"Games: \", end=\"\")\n",
    "    print(\", \".join(d_rec[\"Favorite_Games\"]))\n",
    "\n",
    "# for loop iterates on length of InfoDb\n",
    "def for_loop():\n",
    "    print(\"For loop output\\n\")\n",
    "    for record in InfoDb:\n",
    "        print_data(record)\n",
    "\n",
    "for_loop()\n"
   ]
  },
  {
   "cell_type": "markdown",
   "metadata": {},
   "source": [
    "## Recursive Loop\n",
    "This is for the recursive loop"
   ]
  },
  {
   "cell_type": "code",
   "execution_count": 3,
   "metadata": {},
   "outputs": [
    {
     "name": "stdout",
     "output_type": "stream",
     "text": [
      "\n",
      "Recursive loop output:\n",
      "\n",
      "Chris Stewart Albertson\n",
      "\t Residence: San Diego\n",
      "\t Birth Day: January 20\n",
      "\t Cars: 2022-Toyota Tacoma\n",
      "\t Show: Breaking Bad\n",
      "\t Games: GTA\n",
      "Eli David Gilmore\n",
      "\t Residence: San Diego\n",
      "\t Birth Day: Aug 16\n",
      "\t Cars: 2016-Nissan Altima\n",
      "\t Show: The Flash\n",
      "\t Games: Minecraft\n"
     ]
    }
   ],
   "source": [
    "def recursive_loop(i):\n",
    "    if i < len(InfoDb):\n",
    "        record = InfoDb[i]\n",
    "        print_data(record)\n",
    "        recursive_loop(i + 1)\n",
    "    return\n",
    "\n",
    "print(\"\\nRecursive loop output:\\n\")\n",
    "recursive_loop(0)"
   ]
  },
  {
   "cell_type": "markdown",
   "metadata": {},
   "source": [
    "## While Loop\n",
    "This is for the While Loop example"
   ]
  },
  {
   "cell_type": "code",
   "execution_count": 4,
   "metadata": {},
   "outputs": [
    {
     "name": "stdout",
     "output_type": "stream",
     "text": [
      "While loop output\n",
      "\n",
      "Chris Stewart Albertson\n",
      "\t Residence: San Diego\n",
      "\t Birth Day: January 20\n",
      "\t Cars: 2022-Toyota Tacoma\n",
      "\t Show: Breaking Bad\n",
      "\t Games: GTA\n",
      "Eli David Gilmore\n",
      "\t Residence: San Diego\n",
      "\t Birth Day: Aug 16\n",
      "\t Cars: 2016-Nissan Altima\n",
      "\t Show: The Flash\n",
      "\t Games: Minecraft\n"
     ]
    }
   ],
   "source": [
    "def while_loop():\n",
    "    print(\"While loop output\\n\")\n",
    "    i = 0\n",
    "    while i < len(InfoDb):\n",
    "        record = InfoDb[i]\n",
    "        print_data(record)\n",
    "        i += 1\n",
    "    return\n",
    "\n",
    "while_loop()"
   ]
  },
  {
   "cell_type": "markdown",
   "metadata": {},
   "source": [
    "## Reverse List\n",
    "This is for the reverse list example"
   ]
  },
  {
   "cell_type": "code",
   "execution_count": 5,
   "metadata": {},
   "outputs": [
    {
     "name": "stdout",
     "output_type": "stream",
     "text": [
      "Regular List: ['1', '2', '3', '4', '5', '6']\n",
      "Reversed List: ['6', '5', '4', '3', '2', '1']\n"
     ]
    }
   ],
   "source": [
    "list = [\"1\", \"2\", \"3\", \"4\", \"5\", \"6\"]\n",
    "print('Regular List:', list)\n",
    "list.reverse()\n",
    "print('Reversed List:', list)"
   ]
  },
  {
   "cell_type": "markdown",
   "metadata": {},
   "source": [
    "Intersteller SPACE Quiz!"
   ]
  },
  {
   "cell_type": "code",
   "execution_count": 6,
   "metadata": {},
   "outputs": [
    {
     "name": "stdout",
     "output_type": "stream",
     "text": [
      "Take this quiz about planes.\n",
      "What is the biggest thing in our Universe\n",
      "The Boralis Great Wall\n",
      "Incorrect, the answer was;  The Boralis Great Wall \n",
      "Who owns Space X\n",
      "Elon Musk\n",
      "Correct, you have  1  points!\n",
      "What does NASA stand for\n",
      " National Aeronautics and Space Administration\n",
      "Correct, you have  2  points!\n",
      "What planet is closest to our Sun\n",
      "Mercury\n",
      "Correct, you have  3  points!\n",
      "You have finished the quiz with  3  out of  4  points!\n"
     ]
    }
   ],
   "source": [
    "question = [] # creates empty list\n",
    "\n",
    "question.append({ # adds dictionary with question and answer to list using .append\n",
    "    \"Question\": \"What is the biggest thing in our Universe\",\n",
    "    \"Answer\": \"The Boralis Great Wall \",\n",
    "})\n",
    "question.append({\n",
    "    \"Question\": \"Who owns Space X\",\n",
    "    \"Answer\": \"Elon Musk\",\n",
    "})\n",
    "question.append({\n",
    "    \"Question\": \"What does NASA stand for\",\n",
    "    \"Answer\": \" National Aeronautics and Space Administration\",\n",
    "})\n",
    "question.append({\n",
    "    \"Question\": \"What planet is closest to our Sun\",\n",
    "    \"Answer\": \"Mercury\",\n",
    "})\n",
    "\n",
    "points = 0\n",
    "print(\"Take this quiz about planes.\")\n",
    "\n",
    "for i in question: # for loop repeats every time an answer is given\n",
    "    print(i[\"Question\"])\n",
    "    response = input(i[\"Question\"])\n",
    "    print(response)\n",
    "    \n",
    "    if response == i[\"Answer\"]:\n",
    "        points += 1\n",
    "        print(\"Correct, you have \", points, \" points!\")\n",
    "    else:\n",
    "        print(\"Incorrect, the answer was; \", i[\"Answer\"])\n",
    "\n",
    "print(\"You have finished the quiz with \", points, \" out of \", len(question), \" points!\")"
   ]
  }
 ],
 "metadata": {
  "kernelspec": {
   "display_name": "Python 3.10.6 64-bit",
   "language": "python",
   "name": "python3"
  },
  "language_info": {
   "codemirror_mode": {
    "name": "ipython",
    "version": 3
   },
   "file_extension": ".py",
   "mimetype": "text/x-python",
   "name": "python",
   "nbconvert_exporter": "python",
   "pygments_lexer": "ipython3",
   "version": "3.10.6"
  },
  "orig_nbformat": 4,
  "vscode": {
   "interpreter": {
    "hash": "b0fa6594d8f4cbf19f97940f81e996739fb7646882a419484c72d19e05852a7e"
   }
  }
 },
 "nbformat": 4,
 "nbformat_minor": 2
}
