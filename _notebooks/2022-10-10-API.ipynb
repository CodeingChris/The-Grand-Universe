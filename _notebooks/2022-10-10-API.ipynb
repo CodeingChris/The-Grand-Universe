{
 "cells": [
  {
   "cell_type": "markdown",
   "metadata": {},
   "source": [
    "# API\n",
    "\n",
    "- Title: API\n",
    "- Toc: True\n",
    "- Badges:True\n",
    "- Comments: False\n",
    "- Author: Christopher Albertson\n",
    "- Categories: [fastpagdges,jupyter]\n"
   ]
  },
  {
   "cell_type": "code",
   "execution_count": 5,
   "metadata": {},
   "outputs": [
    {
     "name": "stdout",
     "output_type": "stream",
     "text": [
      "[Agg(open=363.1267, high=383.3033, low=357.51, close=381.8167, volume=82177701.0, vwap=374.1053, timestamp=1649044800000, transactions=859373, otc=None)]\n"
     ]
    }
   ],
   "source": [
    "from polygon import RESTClient\n",
    "client = RESTClient(\"Qd5HMsasyuKDPod52ccnhcmHJ0TdGAy_\") # api_key is used\n",
    "\n",
    "aggs = client.get_aggs(\"TSLA\", 1, \"day\", \"2022-04-04\", \"2022-04-04\")\n",
    "print(aggs)\n",
    "\n"
   ]
  },
  {
   "cell_type": "code",
   "execution_count": 6,
   "metadata": {},
   "outputs": [
    {
     "name": "stdout",
     "output_type": "stream",
     "text": [
      "DailyOpenCloseAgg(after_hours=380, close=381.8167, from_='2022-04-04', high=383.3033, low=357.51, open=363.1267, pre_market=364.3333, status='OK', symbol='TSLA', volume=82177701.0, otc=None)\n",
      "TSLA\n",
      "363.1267\n"
     ]
    }
   ],
   "source": [
    "stock = input(\"request stock above\")\n",
    "data = client.get_daily_open_close_agg(stock, \"2022-04-04\")\n",
    "\n",
    "\n",
    "print(data)\n",
    "print(data.symbol)\n",
    "print(data.open)"
   ]
  }
 ],
 "metadata": {
  "kernelspec": {
   "display_name": "Python 3.9.12 ('base')",
   "language": "python",
   "name": "python3"
  },
  "language_info": {
   "codemirror_mode": {
    "name": "ipython",
    "version": 3
   },
   "file_extension": ".py",
   "mimetype": "text/x-python",
   "name": "python",
   "nbconvert_exporter": "python",
   "pygments_lexer": "ipython3",
   "version": "3.9.12"
  },
  "orig_nbformat": 4,
  "vscode": {
   "interpreter": {
    "hash": "2b68f5382f740e14d6f8cc97442ec5cf98bc4cd163cea927e827d0172003452a"
   }
  }
 },
 "nbformat": 4,
 "nbformat_minor": 2
}
