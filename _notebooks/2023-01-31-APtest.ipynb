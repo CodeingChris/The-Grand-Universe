{
 "cells": [
  {
   "cell_type": "markdown",
   "metadata": {},
   "source": [
    "---\n",
    " title: Ap - Test\n",
    "toc: true\n",
    "Layout: post \n",
    "Description:  AP\n",
    "categories: [markdown]\n",
    "---"
   ]
  },
  {
   "cell_type": "markdown",
   "metadata": {},
   "source": [
    "# Test Overview / Refection\n",
    "\n",
    "I missed 20 questions on this AP Exam, a 30/50 (60%). So I feel pretty good with myself, over this course I have learned a lot, now moving onto next trimester I need to continue to work my way through APCSP here our some i struggled with.\n",
    "\n",
    "Q19 : I believe didn't thourly read through this question as well as we should've, the correct answer was C and we answered B\n",
    "\n",
    "Q20 : With this question we guessed, this one was complex and something we need to learn. The correct answer is D.\n",
    "\n",
    "Q23 : This one was to hard for me and Khalid to figure out, this one we need to cover again. The correct answer is D.\n",
    "\n",
    "Q30: This one stumped me, didn't understand the question. The correct answer was B.\n",
    "\n",
    "Q34: This one we coudl've got right yet I believe we rushed through this question, next time we will take more time. The correct answer was B.\n",
    "\n",
    "Q38: Again felt rushed through this one, if we spent a little more time on this one we would've gotten it right. The correct answer was B.\n",
    "\n",
    "# Questions I searched up\n",
    "Question #16\n",
    "Question #17\n",
    "Question #19\n",
    "Question #20\n",
    "Question #25\n",
    "Question #30"
   ]
  },
  {
   "cell_type": "markdown",
   "metadata": {},
   "source": [
    "![APTESTIMG](https://file%2B.vscode-resource.vscode-cdn.net/Users/chrisalbertson/Desktop/Screen%20Shot%202023-01-31%20at%202.56.44%20PM.png?version%3D1675205992615)"
   ]
  }
 ],
 "metadata": {
  "kernelspec": {
   "display_name": "Python 3.10.6 64-bit",
   "language": "python",
   "name": "python3"
  },
  "language_info": {
   "name": "python",
   "version": "3.10.6"
  },
  "orig_nbformat": 4,
  "vscode": {
   "interpreter": {
    "hash": "b0fa6594d8f4cbf19f97940f81e996739fb7646882a419484c72d19e05852a7e"
   }
  }
 },
 "nbformat": 4,
 "nbformat_minor": 2
}
