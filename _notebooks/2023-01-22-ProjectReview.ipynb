{
 "cells": [
  {
   "cell_type": "markdown",
   "metadata": {},
   "source": [
    "# Project Review\n",
    "\n",
    "- Title: Project Review\n",
    "- Toc: True\n",
    "- Badges:True\n",
    "- Comments: False\n",
    "- Author: Christopher Albertson\n",
    "- Categories: [week5]"
   ]
  },
  {
   "cell_type": "markdown",
   "metadata": {},
   "source": [
    " ## 1st Project\n",
    "   \n",
    "    |Reporting Category  |Student Score |Collegeboard Score|Comments|\n",
    "    |------|-----|------|-----|\\n\",\n",
    "    |Program Purpose and Function|1|0|The video and written response included the input,output and described all the purposes for the project.|\n",
    "    |Data Abstraction|0|1|The data stored here is not majorly assisting and is it not clearly defined|\n",
    "    |Managing Complexity|1|0|States how the list is neccessary in the code and how it manages the complexity of it|\n",
    "    |Procedural Abstraction|0|1|The procedural elements are not present clearly in this project|\n",
    "    |Algorithm Implimentation|1|1|The requirements for this section are met|\n",
    "    |Testing|1|1|The calls are described and the code being ran is stated|\n",
    "    \n",
    "    Total: 3/6"
   ]
  },
  {
   "cell_type": "markdown",
   "metadata": {},
   "source": [
    "## 3rd Project\n",
    "    |Reporting Category  |Student Score |Collegeboard Score|Comments|\n",
    "    |------|-----|------|-----|\n",
    "    |Program Purpose and Function|0|0|The purpose is not a very specific thing and leaves lot of room for misunderstanding|\n",
    "    |Data Abstraction|0|0|The list is named however it is not stated what is being stored in the list|\n",
    "    |Managing Complexity|1|0|All lists are stated clearly and meet the criteria |\n",
    "    |Procedural Abstraction|0|0|The procedure is not explained in relation to the program rather it talks about its use independently. |\n",
    "    |Algorithm Implimentation|1|0|Sequences,selection,iteration are all present and stated in this example. |\n",
    "    |Testing|1|1|The calls are labeled with the output so it is in a place where it can be clearly found and compared. |\n",
    "    \n",
    "    Total: 4/6"
   ]
  },
  {
   "cell_type": "markdown",
   "metadata": {},
   "source": [
    "## 4th Project\n",
    "    |Reporting Category  |Student Score |Collegeboard Score|Comments|\n",
    "    |------|-----|------|-----|\n",
    "    |Program Purpose and Function|1|1|The purpose of the program is stated clearly with great depth so I can know what is to be expected.|\n",
    "    |Data Abstraction|1|1|The inputs are clearly stated and easy to find, meeting the criteria|\n",
    "    |Managing Complexity|1|1|The lists contain multiple elements which fits the criteria|\n",
    "    |Procedural Abstraction|1|1|The procedure is explained clearly and has multiple functionalities|\n",
    "    |Algorithm Implimentation|1|1|Sequences,selection,iteration are all present and stated in this example. |\n",
    "    |Testing|1|1|The calls are placed in a way where it is easy to check and to make sure that the testing output matches|\n",
    "   \n",
    "    Total:6/6\n"
   ]
  }
 ],
 "metadata": {
  "kernelspec": {
   "display_name": "Python 3.10.6 64-bit",
   "language": "python",
   "name": "python3"
  },
  "language_info": {
   "name": "python",
   "version": "3.10.6"
  },
  "orig_nbformat": 4,
  "vscode": {
   "interpreter": {
    "hash": "b0fa6594d8f4cbf19f97940f81e996739fb7646882a419484c72d19e05852a7e"
   }
  }
 },
 "nbformat": 4,
 "nbformat_minor": 2
}
