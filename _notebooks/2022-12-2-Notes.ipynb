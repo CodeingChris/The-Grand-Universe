{
 "cells": [
  {
   "cell_type": "markdown",
   "metadata": {},
   "source": [
    "# Week 2 Notes\n",
    "\n",
    "- Title: Week 2 Notes\n",
    "- Toc: True\n",
    "- Badges:True\n",
    "- Comments: False\n",
    "- Author: Christopher Albertson\n",
    "- Categories: [fastpagdges,jupyter]"
   ]
  },
  {
   "cell_type": "markdown",
   "metadata": {},
   "source": [
    "# \"Section 1-2,\n",
    "    \"- Lists are used to organize data\n",
    "    \"- Split() splits lists and join() joins the lists toghether\n",
    "    \"- In the AP Exam the indexing starts at 1 rather than 0\n",
    "    \"- You can display data in Javascript through a function\n",
    "    \"- You can convert javascript output to html in order for it to look good\n",
    "    \"- Dictionaries store both a key and value\n",
    "    \"- Temporary variables can be used to set a value and change that value without affect the first variable\n",
    "    \"- Const in java sets a variable which cannot be changed\n",
    "    \"- Data can be pulled from lists\n",
    "\n"
   ]
  },
  {
   "cell_type": "markdown",
   "metadata": {},
   "source": [
    "# \"Section 3-4\n",
    "    \"- Modulus operator gives the variable after division\n",
    "    \"- Concatination is the combination of strings "
   ]
  },
  {
   "cell_type": "markdown",
   "metadata": {},
   "source": [
    "# \"Section 5-7\n",
    "    \"- Boolean is True(1) and False(0)\n",
    "    \"- Boolean operators produce certain numbers\n",
    "    \"- Algorithm is a set of instructions that accomplish a task\n",
    "    \"- Conditionals appear everywhere\n",
    "    \"- Selection is driven by conditionals\""
   ]
  },
  {
   "cell_type": "markdown",
   "metadata": {},
   "source": [
    "# \"Section 8-10:\n",
    "    \"- Lists can be used to store data\n",
    "    \"- Indexes count an organize data in a list\n",
    "    \"- Iteration is repeating a function multiple times\n",
    "    \"- A condition is telling when a system should stop running\n",
    "    \"- You can use a for loop for element in list\n",
    "    \"Section 9 and 11\n",
    "    \"- Algorithm is a set of commands that complete a task\n",
    "    \"- Human steps in code\n",
    "    \"- Algorithms can be used for iteration or selection\n",
    "    \"- There are benefits and draw backs to all algorithms"
   ]
  }
 ],
 "metadata": {
  "kernelspec": {
   "display_name": "Python 3.10.6 64-bit",
   "language": "python",
   "name": "python3"
  },
  "language_info": {
   "name": "python",
   "version": "3.10.6"
  },
  "orig_nbformat": 4,
  "vscode": {
   "interpreter": {
    "hash": "b0fa6594d8f4cbf19f97940f81e996739fb7646882a419484c72d19e05852a7e"
   }
  }
 },
 "nbformat": 4,
 "nbformat_minor": 2
}
