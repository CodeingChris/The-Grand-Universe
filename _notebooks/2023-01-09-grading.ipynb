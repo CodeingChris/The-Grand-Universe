{
 "cells": [
  {
   "cell_type": "markdown",
   "metadata": {},
   "source": [
    "# Grading\n",
    "\n",
    "- Title: Grading\n",
    "- Toc: True\n",
    "- Badges:True\n",
    "- Comments: False\n",
    "- Author: Christopher Albertson\n",
    "- Categories: [week5]"
   ]
  },
  {
   "cell_type": "markdown",
   "metadata": {},
   "source": [
    "|Reporting Category|Student Score|CB Score|Comments|\n",
    "|----|-----|-----|------|\n",
    "|Program Purpose and Function|1|0|In essence, why the programmer decided to create this program. For example, “the purpose of this program is to encourage others to recycle.|\n",
    "|Data Abstraction|0|1|Data abstraction is the reduction of a particular body of data to a simplified representation of the whole. Abstraction, in general, is the process of removing characteristics from something to reduce it to a set of essential elements.The criteria is not met clearly here|\n",
    "|Managing Complexity|1|0|I was able to understand everything yet The complexity of a given piece of code has to do with just how complicated and unwieldy it is for a developer to understand. |\n",
    "|Procedural Abstraction|0|1|Procedural abstraction is when we write code sections (called \"procedures\" or in Java, \"static methods\") which are generalised by having variable parameters. The idea is that we have code which can cope with a variety of different situations, depending on how its parameters are set when it is called.The project met the requirements|\n",
    "|Algorithm Implementaion|1|1|It defines the layout problem your algorithm should solve, in several ways. First, it defines the structure of the graph to be laid out: which nodes exist, how are they connected, and so on.I can understand where the lists were used|\n",
    "|Testing|0|1|The testing is not clearly defined yet I feel I undrerstand it and with more practice and time with it I can do much better with it| "
   ]
  },
  {
   "cell_type": "markdown",
   "metadata": {},
   "source": [
    "|Reporting Category|Student Score|CB Score|Comments|\n",
    "|----|-----|-----|------|\n",
    "|Program Purpose and Function|1|1|Program Purpose and Function|\n",
    "|Data Abstraction|1|1|Data Abstraction|\n",
    "|Managing Complexity|1|1|Managing Complexity|\n",
    "|Procedural Abstraction|1|1|Procedural Abstraction|\n",
    "|Algorithm Implementation|1|1| ALgorithm Implementation|\n",
    "|Testing|1|1|Testing|"
   ]
  }
 ],
 "metadata": {
  "kernelspec": {
   "display_name": "Python 3.10.6 64-bit",
   "language": "python",
   "name": "python3"
  },
  "language_info": {
   "name": "python",
   "version": "3.10.6"
  },
  "orig_nbformat": 4,
  "vscode": {
   "interpreter": {
    "hash": "b0fa6594d8f4cbf19f97940f81e996739fb7646882a419484c72d19e05852a7e"
   }
  }
 },
 "nbformat": 4,
 "nbformat_minor": 2
}
