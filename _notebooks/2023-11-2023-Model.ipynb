{
 "cells": [
  {
   "cell_type": "markdown",
   "metadata": {},
   "source": [
    "# Opp Hacks\n",
    "\n",
    "- Title: Opp Hacks\n",
    "- Toc: True\n",
    "- Badges:True\n",
    "- Comments: False\n",
    "- Author: Christopher Albertson\n",
    "- Categories: [week5]"
   ]
  },
  {
   "cell_type": "code",
   "execution_count": 3,
   "metadata": {},
   "outputs": [
    {
     "name": "stdout",
     "output_type": "stream",
     "text": [
      "Name: Chris Albertosn\n",
      "ID Number: 1955915\n",
      "Graduation Year: 2024\n",
      "DOB: 2023-01-20\n",
      "Age: None\n",
      "Name: Chris Albertosn\n",
      "ID Number: 1955915\n",
      "Graduation Year: 2024\n",
      "DOB: 2006-01-20\n",
      "Age: 16\n"
     ]
    }
   ],
   "source": [
    "import datetime\n",
    "\n",
    "class Student:\n",
    "    def __init__(self, fname, lname, idNum, classOf, dob):\n",
    "        self.fname = fname\n",
    "        self.lname = lname\n",
    "        self.idNum = idNum\n",
    "        self.classOf = classOf\n",
    "        self.dob = dob\n",
    "        self._age = None\n",
    "        \n",
    "    @property\n",
    "    def classOf(self):\n",
    "        return self._classOf\n",
    "    \n",
    "    @classOf.setter\n",
    "    def classOf(self, value):\n",
    "        self._classOf = value\n",
    "        \n",
    "    @property\n",
    "    def dob(self):\n",
    "        return self._dob\n",
    "    \n",
    "    @dob.setter\n",
    "    def dob(self, value):\n",
    "        self._dob = value\n",
    "        today = datetime.date.today()\n",
    "        self._age = today.year - self._dob.year - ((today.month, today.day) < (self._dob.month, self._dob.day))\n",
    "    \n",
    "    @property\n",
    "    def age(self):\n",
    "        return self._age\n",
    "    \n",
    "    def __str__(self):\n",
    "        return f\"Name: {self.fname} {self.lname}\\nID Number: {self.idNum}\\nGraduation Year: {self.classOf}\\nDOB: {self.dob}\\nAge: {self.age}\"\n",
    "        \n",
    "def tester():\n",
    "    s1 = Student(\"Chris\", \"Albertosn\", \"1955915\", \"2024\", datetime.date(2023, 1, 20))\n",
    "    print(s1)\n",
    "    s1.dob = datetime.date(2006, 1, 20\n",
    ")\n",
    "    print(s1)\n",
    "    \n",
    "tester()"
   ]
  }
 ],
 "metadata": {
  "kernelspec": {
   "display_name": "Python 3.10.6 64-bit",
   "language": "python",
   "name": "python3"
  },
  "language_info": {
   "codemirror_mode": {
    "name": "ipython",
    "version": 3
   },
   "file_extension": ".py",
   "mimetype": "text/x-python",
   "name": "python",
   "nbconvert_exporter": "python",
   "pygments_lexer": "ipython3",
   "version": "3.10.6"
  },
  "orig_nbformat": 4,
  "vscode": {
   "interpreter": {
    "hash": "b0fa6594d8f4cbf19f97940f81e996739fb7646882a419484c72d19e05852a7e"
   }
  }
 },
 "nbformat": 4,
 "nbformat_minor": 2
}
