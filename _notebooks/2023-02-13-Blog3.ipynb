Made to help the younger generation excel with numbers.
Makes learning numbers fun and less complicated
Has timer setting allowing players to make goals for themselves
Your kids will not want to get off this game
Easy to sign up and add preferred setting to make the game more efficient for the player
