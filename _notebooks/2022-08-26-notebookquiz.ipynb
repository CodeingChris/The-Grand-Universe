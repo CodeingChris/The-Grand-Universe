{
 "cells": [
  {
   "cell_type": "markdown",
   "metadata": {},
   "source": [
    "# The Wonders of Space Intermidiete Quiz\n",
    "\n",
    "- Title: The Wonders of Space Quiz\n",
    "- Toc: True\n",
    "- Badges:True\n",
    "- Comments: False\n",
    "- Author: Christopher Albertson\n",
    "- Categories: [fastpagdges,jupyter]\n",
    "\n",
    "\n",
    "\n"
   ]
  },
  {
   "cell_type": "code",
   "execution_count": 3,
   "metadata": {},
   "outputs": [
    {
     "name": "stdout",
     "output_type": "stream",
     "text": [
      "Take this quiz about football basic rules.\n",
      "How many years would it take to reach Neptune through common space travel?\n",
      "11\n",
      "Incorrect, the answer was;  12 years\n",
      "How many lightyears would it take to reach the end of our universe?\n",
      "13 billion years\n",
      "Incorrect, the answer was;  13 billion light years\n",
      "Who was the first person to land on our Moon?\n",
      "Niel Armstrong\n",
      "Incorrect, the answer was;  Neil Armstrong\n",
      "How many milers per hour do you go at the speed of light?\n",
      "186,000 miles per secound\n",
      "Incorrect, the answer was;  186,000 miles per second\n",
      "You have finished the quiz with  0  out of  4  points!\n"
     ]
    }
   ],
   "source": [
    "question = [\"How many years would it take to reach Neptune through common space travel?\", \"How many lightyears would it take to reach the end of our universe?\", \"Who was the first person to land on our Moon?\", \"How many milers per hour do you go at the speed of light?\"]\n",
    "answer = [\"12 years\", \"13 billion light years\", \"Neil Armstrong\", \"186,000 miles per second\"]\n",
    "points = 0\n",
    "\n",
    "print(\"Take this quiz about football basic rules.\")\n",
    "\n",
    "for i in range(len(question)):\n",
    "    print(question[i])\n",
    "    response = input()\n",
    "    print(response)\n",
    "\n",
    "    if response == answer[i]:\n",
    "        points += 1\n",
    "        print(\"Correct, you have \", points, \" points!\")\n",
    "    else:\n",
    "        print(\"Incorrect, the answer was; \", answer[i])\n",
    "\n",
    "print(\"You have finished the quiz with \", points, \" out of \", len(question), \" points!\")"
   ]
  }
 ],
 "metadata": {
  "kernelspec": {
   "display_name": "Python 3.10.6 64-bit",
   "language": "python",
   "name": "python3"
  },
  "language_info": {
   "codemirror_mode": {
    "name": "ipython",
    "version": 3
   },
   "file_extension": ".py",
   "mimetype": "text/x-python",
   "name": "python",
   "nbconvert_exporter": "python",
   "pygments_lexer": "ipython3",
   "version": "3.10.6"
  },
  "orig_nbformat": 4,
  "vscode": {
   "interpreter": {
    "hash": "b0fa6594d8f4cbf19f97940f81e996739fb7646882a419484c72d19e05852a7e"
   }
  }
 },
 "nbformat": 4,
 "nbformat_minor": 2
}
