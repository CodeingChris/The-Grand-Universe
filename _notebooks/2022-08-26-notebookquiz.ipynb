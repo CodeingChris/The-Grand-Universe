{
 "cells": [
  {
   "cell_type": "markdown",
   "metadata": {},
   "source": [
    "#The Wonders of Space Intermidiete Quiz\n",
    "\n",
    "- Title: The Wonders of Space Quiz\n",
    "- Toc: True\n",
    "- Badges:True\n",
    "- Comments: False\n",
    "- Author: Christopher Albertson\n",
    "- Categories: [fastpagdges,jupyter]\n",
    "\n",
    "\n",
    "\n"
   ]
  },
  {
   "cell_type": "code",
   "execution_count": 1,
   "metadata": {},
   "outputs": [
    {
     "name": "stdout",
     "output_type": "stream",
     "text": [
      "Question: How many years would it take to travel to the planet Neptune\n",
      "Answer: 12 years\n"
     ]
    }
   ],
   "source": [
    "def question_and_answer(prompt):\n",
    "    print(\"Question: \" + prompt)\n",
    "    msg = input(\"12 years\")\n",
    "    print(\"Answer: \" + msg)\n",
    "\n",
    "question_and_answer (\"How many years would it take to travel to the planet Neptune\")"
   ]
  },
  {
   "cell_type": "code",
   "execution_count": 2,
   "metadata": {},
   "outputs": [
    {
     "name": "stdout",
     "output_type": "stream",
     "text": [
      "Question: how far away is the Sun from Planet Earth?\n",
      "Answer: 93 million miles\n"
     ]
    }
   ],
   "source": [
    "def question_and_answer(prompt):\n",
    "    print(\"Question: \" + prompt)\n",
    "    msg = input(\"93 million miles\")\n",
    "    print(\"Answer: \" + msg)\n",
    "\n",
    "question_and_answer (\"how far away is the Sun from Planet Earth?\")"
   ]
  }
 ],
 "metadata": {
  "kernelspec": {
   "display_name": "Python 3.10.6 64-bit",
   "language": "python",
   "name": "python3"
  },
  "language_info": {
   "codemirror_mode": {
    "name": "ipython",
    "version": 3
   },
   "file_extension": ".py",
   "mimetype": "text/x-python",
   "name": "python",
   "nbconvert_exporter": "python",
   "pygments_lexer": "ipython3",
   "version": "3.10.6"
  },
  "orig_nbformat": 4,
  "vscode": {
   "interpreter": {
    "hash": "b0fa6594d8f4cbf19f97940f81e996739fb7646882a419484c72d19e05852a7e"
   }
  }
 },
 "nbformat": 4,
 "nbformat_minor": 2
}
