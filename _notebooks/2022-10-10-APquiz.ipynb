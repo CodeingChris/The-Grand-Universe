{
 "cells": [
  {
   "cell_type": "markdown",
   "metadata": {},
   "source": [
    "# AP Quiz 1 and 2\n",
    "> Demonstrates my completion of the college board assignments\n",
    "\n",
    "- title: Ap Quiz's\n",
    "- toc: true\n",
    "- badges: true\n",
    "- comments: false\n",
    "- author: Christopher Albertson\n",
    "- categories: [jupyter]"
   ]
  },
  {
   "cell_type": "markdown",
   "metadata": {},
   "source": [
    "# week 7\n",
    "![]({{site.baseurl}}/images/Screen Shot 2022-10-10 at 11.57.14 AM.png)"
   ]
  }
 ],
 "metadata": {
  "kernelspec": {
   "display_name": "Python 3.10.6 64-bit",
   "language": "python",
   "name": "python3"
  },
  "language_info": {
   "name": "python",
   "version": "3.10.6"
  },
  "orig_nbformat": 4,
  "vscode": {
   "interpreter": {
    "hash": "b0fa6594d8f4cbf19f97940f81e996739fb7646882a419484c72d19e05852a7e"
   }
  }
 },
 "nbformat": 4,
 "nbformat_minor": 2
}
