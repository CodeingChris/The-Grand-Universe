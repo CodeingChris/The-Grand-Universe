{
 "cells": [
  {
   "cell_type": "markdown",
   "metadata": {},
   "source": [
    "# Technical Buisness Panel Notes (EC)\n",
    "---------------------------------------------------------------------\n",
    "- Title: Technicao Buisness Panel Notes (EC)\n",
    "- Toc: True\n",
    "- Badges:True\n",
    "- Comments: False\n",
    "- Author: Christopher Albertson\n",
    "- Categories: [fastpagdges,jupyter]\n",
    "---------------------------------------------------------------------"
   ]
  },
  {
   "cell_type": "markdown",
   "metadata": {},
   "source": [
    "## Notes/Kathriene\n",
    "\n",
    "\n",
    "-Lived in Spain for a little bit\n",
    "\n",
    "-Lived in San Jose till 2004\n",
    "\n",
    "## Career:\n",
    "\n",
    "- Mission statement: \"Not only to survive but to thrive with passion,compassion, humor and style\n",
    "\n",
    "-Learned to surf on the ocean waves\n",
    "\n",
    "-HP mission statement: Create technology that makes life better for everyone, everywhere\n",
    "\n",
    "-One commonality between her companies was that they were all focused around helping the people and giving the people what they need \n",
    "\n",
    "-NPI Stage Gates:\n",
    "\n",
    "-Does this product make sense for the market?\n",
    "\n",
    "-Does the product help the target customers\n",
    "\n",
    "\n",
    "## Notes/Kris\n",
    "\n",
    "-Went to UCLA for Electrical Engineering\n",
    "\n",
    "-Obtained a masters degree in Electrical engineering from Cal State LA\n",
    "\n",
    "-Learned good skills in 2008 by learning about research (Marketable skill)\n",
    "\n",
    "## Career: \n",
    "\n",
    "-Got a job at a startup in 2010 which launched his DevOps career\n",
    "\n",
    "-DevOps is important to prevent DDOS and to prevent hackers from accessing your site\n",
    "\n",
    "-Geo fences can be used to send messages to users when you are close to their stores\n",
    "\n",
    "-Continous learning\" - Always learning new skills to apply to new challenges and jobs\n",
    "\n",
    "## Projects:\n",
    "\n",
    "-Streaming Media Infrastructure\n",
    "\n",
    "-Analysitics Infrastructure Projects\n",
    "\n",
    "-Twitter Projects"
   ]
  }
 ],
 "metadata": {
  "language_info": {
   "name": "python"
  },
  "orig_nbformat": 4
 },
 "nbformat": 4,
 "nbformat_minor": 2
}
