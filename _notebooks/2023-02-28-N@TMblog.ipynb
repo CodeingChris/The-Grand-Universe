{
 "cells": [
  {
   "cell_type": "markdown",
   "metadata": {},
   "source": [
    "# N@TM Blog\n",
    "\n",
    "- Title: N@TM\n",
    "- Toc: True\n",
    "- Badges:True\n",
    "- Comments: False\n",
    "- Author: Christopher Albertson\n",
    "- Categories: [fastpagdges,jupyter]\n",
    "\n",
    "<img src=\"/Users/chrisalbertson/Downloads/The-Grand-Universe/images/IMG_9036.jpeg\">\n",
    "\n",
    "\n"
   ]
  },
  {
   "cell_type": "markdown",
   "metadata": {},
   "source": [
    "# We had a great time in the N@tM "
   ]
  },
  {
   "cell_type": "markdown",
   "metadata": {},
   "source": [
    "<img src=\"/Users/chrisalbertson/Downloads/The-Grand-Universe/_site/images/IMG_9041.jpeg\">"
   ]
  },
  {
   "cell_type": "markdown",
   "metadata": {},
   "source": [
    "# We all went around viewing eachothers Projects!"
   ]
  },
  {
   "cell_type": "markdown",
   "metadata": {},
   "source": [
    "<img src=\"/Users/chrisalbertson/Downloads/The-Grand-Universe/_site/images/IMG_9032.jpeg\">"
   ]
  },
  {
   "cell_type": "markdown",
   "metadata": {},
   "source": [
    "# It was very FUN!"
   ]
  }
 ],
 "metadata": {
  "kernelspec": {
   "display_name": "Python 3.10.6 64-bit",
   "language": "python",
   "name": "python3"
  },
  "language_info": {
   "name": "python",
   "version": "3.10.6"
  },
  "orig_nbformat": 4,
  "vscode": {
   "interpreter": {
    "hash": "b0fa6594d8f4cbf19f97940f81e996739fb7646882a419484c72d19e05852a7e"
   }
  }
 },
 "nbformat": 4,
 "nbformat_minor": 2
}
