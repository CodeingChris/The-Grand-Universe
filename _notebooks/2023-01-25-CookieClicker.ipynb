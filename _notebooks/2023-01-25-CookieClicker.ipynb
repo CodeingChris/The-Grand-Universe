{
 "cells": [
  {
   "cell_type": "code",
   "execution_count": 6,
   "metadata": {},
   "outputs": [
    {
     "name": "stdout",
     "output_type": "stream",
     "text": [
      "Too high, try again!\n",
      "Too high, try again!\n",
      "Too low, try again!\n",
      "Too high, try again!\n",
      "Too low, try again!\n",
      "Too low, try again!\n",
      "Too high, try again!\n",
      "Too low, try again!\n",
      "Congratulations, you guessed the number!\n"
     ]
    }
   ],
   "source": [
    "import random\n",
    "\n",
    "number = random.randint(1, 100)\n",
    "guess = None\n",
    "\n",
    "while guess != number:\n",
    "    guess = int(input(\"Guess a number between 1 and 100: \"))\n",
    "    if guess < number:\n",
    "        print(\"Too low, try again!\")\n",
    "    elif guess > number:\n",
    "        print(\"Too high, try again!\")\n",
    "    else:\n",
    "        print(\"Congratulations, you guessed the number!\")\n"
   ]
  }
 ],
 "metadata": {
  "kernelspec": {
   "display_name": "Python 3.10.6 64-bit",
   "language": "python",
   "name": "python3"
  },
  "language_info": {
   "codemirror_mode": {
    "name": "ipython",
    "version": 3
   },
   "file_extension": ".py",
   "mimetype": "text/x-python",
   "name": "python",
   "nbconvert_exporter": "python",
   "pygments_lexer": "ipython3",
   "version": "3.10.6"
  },
  "orig_nbformat": 4,
  "vscode": {
   "interpreter": {
    "hash": "b0fa6594d8f4cbf19f97940f81e996739fb7646882a419484c72d19e05852a7e"
   }
  }
 },
 "nbformat": 4,
 "nbformat_minor": 2
}
