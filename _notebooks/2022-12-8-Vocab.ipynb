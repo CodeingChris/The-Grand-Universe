{
 "cells": [
  {
   "cell_type": "markdown",
   "metadata": {},
   "source": [
    "# Unit 2 Vocab\n",
    "---------------\n",
    "## -Bits, Bytes, Hexadecimal / Nibbles\n",
    "   \n",
    "    A packed decimal representation stores decimal digits in each \"nibble\" of a byte. Each byte has two nibbles, and each nibble is indicated by a hexadecimal digit. For example, the value 15 is stored in two nibbles, using the hexadecimal digits 1 and 5. The sign indication is dependent on your operating environment.\n",
    "\n",
    "## -Binary Numbers: Unsigned Integer, Signed Integer, Floating Point\n",
    "    \n",
    "    Any integer constant that is too big to fit into the integer size is interpreted by the compiler as long.\n",
    "\n",
    "## -Binary Data Abstractions: Boolean, ASCII, Unicode, RGB\n",
    "    \n",
    "    Algorithms, Data and Data Structures go together. It is required to have a data topic as you venture into Algorithms and Lessons. This blog is a collection of binary, data and data structures that should be your data topic!!! Use a data topic as you learn algorithms and programming.\n",
    "\n",
    "# Unit 3… Algorithm/Programming Terms\n",
    "-------------------\n",
    "## -Variables, Data Types, Assignment Operators\n",
    "    \n",
    "    The assignment operator = assigns the value of its right-hand operand to a variable, a property, or an indexer element given\n",
    "\n",
    "## -Managing Complexity with Variables:  Lists, 2D Lists, Dictionaries, Class\n",
    "\n",
    "    An array is a numerically ordered list of same type elements. Each element is associated with a number called an index. Indexing starts with 0 (not 1!), meaning that the first element is associated with an index 0, the second with 1,\n",
    "\n",
    "## -Algorithms, Sequence, Selection, Iteration\n",
    "\n",
    "    Sequence is the order in which instructions occur and are processed. Selection determines which path a program takes when it is running. Iteration is the repeated execution of a section of code when a program is running.\n",
    "\n",
    "## -Booleans Expressions and Iteration, Truth Tables\n",
    "\n",
    "\n",
    "    A truth table is a mathematical table used in logic—specifically in connection with Boolean algebra, boolean functions, and propositional calculus—which sets out the functional values of logical expressions on each of their functional arguments, that is, for each combination of values taken by their logical variables.\n",
    "\n",
    "## -Combining loops with conditionals to Break, Continue\n",
    "\n",
    "\n",
    "    The break and continue statements are the jump statements that are used to skip some statements inside the loop or terminate the loop immediately without checking the test expression. \n",
    "\n",
    "## -Procedural Abstraction, Python Def procedures, Parameters, Return Values \n",
    "\n",
    "    Abstraction is a process of focusing attention on the main problems by ignoring lower-level details. In high level programming,\n",
    "\n"
   ]
  }
 ],
 "metadata": {
  "kernelspec": {
   "display_name": "Python 3.10.6 64-bit",
   "language": "python",
   "name": "python3"
  },
  "language_info": {
   "name": "python",
   "version": "3.10.6"
  },
  "orig_nbformat": 4,
  "vscode": {
   "interpreter": {
    "hash": "b0fa6594d8f4cbf19f97940f81e996739fb7646882a419484c72d19e05852a7e"
   }
  }
 },
 "nbformat": 4,
 "nbformat_minor": 2
}
