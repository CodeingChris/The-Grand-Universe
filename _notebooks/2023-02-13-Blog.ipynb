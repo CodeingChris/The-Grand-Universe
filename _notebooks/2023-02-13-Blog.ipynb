{
 "cells": [
  {
   "cell_type": "markdown",
   "metadata": {},
   "source": [
    "# Blog Log\n",
    "\n",
    "- Title: Blog log\n",
    "- Toc: True\n",
    "- Badges:True\n",
    "- Comments: False\n",
    "- Author: Christopher Albertson\n",
    "- Categories: [fastpagdges,jupyter]\n",
    "\n",
    "\n"
   ]
  },
  {
   "cell_type": "markdown",
   "metadata": {},
   "source": [
    "## 1st discussion Answers:\n",
    "\n",
    "One benefit of being able to watch TV over the internet through websites such as YoutubeTV and SlingTV are that people can watch their shows whenever they want instead of having to wait for them to air on the local TV\n",
    "Another benefit of TV being available whenver you want is the streaming networks create more TV. In the older days it would take weeks for an entire season of a show to air on local TV so the network would make new seasons for the shows less often. Now the companies are willing to make the TV shows more often because of how people will watch it.\n",
    "One negative side affect of TV being available everywhere is that its less memorable. Since the network comapnies are creating many new shows often, there quality has reduced where the networks want to make as many shows as possible to maximize the revenue they can \n",
    "\n",
    "Talk about dopamine issues above. Real? Parent conspiracy? Anything that is impacting your personal study and success in High School?\n",
    "\n",
    "Yes these issues are definetly real. The media and digital world can be very addictive for many teens who don't know how to manage their time and navigate the world. The amount of distractions can lead to many teens neglecting their personal studies and responsiblities because they are unable to manage their own time. Something that affects my personal studies from the digitial world is Youtube because Youtube is very addiciting and the algorithm is made to always keep you watching. It can be very difficult to have the self control to stop watching and do other less fun things in my life."
   ]
  },
  {
   "cell_type": "markdown",
   "metadata": {},
   "source": [
    "## 2nd Discussion\n",
    "\n",
    "How does someone empower themself in a digital world? Someone can empower themselves in the digital world by using the internet to gain more connections. An example of this is through Linkedin you can meet people you would not have meet otherwise. The connections you create here are valuable throughout your life because these people can give you oppurtunities that would not have been available without the access to linkedin.\n",
    "\n",
    "How does someone that is empowered help someone that is not empowered? Describe something you could do at Del Norte HS. You can help someone who isn't empowered by allowing them to use your resources. For example on a large scale you could start a non-profit where students from Del Norte contribute by giving away their old devices so they can be used by the people who are not digitally empowered. You can also collect donations of money so you can use it to either fix the old technology and get it to work or you can save it to buy new devices for those who don't have the money to buy it on their own.\n",
    "\n",
    "Is paper or red tape blocking digital empowerment? Are there such barriers at Del Norte? Elsewhere? Yes there are certain stuff that block digitial enpowerment. For example the tech companies do not focus on the people who don't have much money but focus on those who have lots of money and will pay a high fee for their devices. An example of this is Apple with fees being in the thousands for a new phone which is not possible to be bought by someone in a low income situation. These limitations aren't present in Del Norte because students can get free chromebooks so they are able to submit assignments and do the work they need when at home and at school. There are limitations for some elsewhere, in places where the school district doesn't have the money to buy chromebooks or devices for everyone but rather they have to supply it themselves which is unfeasable.\n"
   ]
  },
  {
   "cell_type": "markdown",
   "metadata": {},
   "source": [
    "## 3rd Discussion Reflection - Computing Bias\n",
    "\n",
    "Based on what we have learned in class today there is a lot of ways we can avoid bias in what we do. For example in the computer camera of HP that we learned about today there was lots of bias in the training data that was used for testing out the camera model. The main problem here was that there wasn't enough testing with black people or people with darker skin tones so while it noticed the white person in the video the other man could not be recognized by the camera. Its important that we make sure to always equally test all data so the results are as accurate as possible and that will help us to avoid bias in our data and output. For further learning I read this article: https://www.vox.com/recode/2020/2/18/21121286/algorithms-bias-discrimination-facial-recognition-transparency which goes in to deeper depth about how algorithms can be biased. The main takeaways from the article were that with machine learning its important to have all sorts of training data so all groups are properly represented. Its also important to be understanding what bias could be happening in the dataset so the data can be fixed to make sure that there won't be any problems when the model is pushed out."
   ]
  },
  {
   "cell_type": "markdown",
   "metadata": {},
   "source": [
    "## 4th Discussion Reflection - Crowdsourcing\n",
    "\n",
    "CompSci has 150 ish principles students. Describe a crowdsource idea and how you might initiate it in our environment? An idea we could crowdsource with is since our CPT project is a game we could have lots of students try out the games and after they do rate if the game is too difficult or too easy. With all this input we could use it to improve the games difficulty so it becomes how hard as it should be. Crowdsourcing is very helpful in order to get lots of data in a way where its free to use and that people can contribute.\n",
    "\n",
    "What about Del Norte crowdsourcing? Could your project be better with crowdsourcing? Del Norte crowdsourcing could be very good because there is lots of people in the school and they could give good input. However we must also monitor there input because there could be people who give illegitimate input would ruin the data that we get. Its important that we probe through the data making sure that its valid and that it would be helpful to our survey. Our project would improve from crowdsourcing because the more input we get, would help overall improve our project.\n",
    "\n",
    "What kind of data could you capture at N@tM to make evening interesting? Perhaps use this data to impress Teachers during finals week.\n",
    "\n",
    "The data we could capture is overall user happiness with what we have created in our project so far. This could be shown to the teacher to show how what we have created is great for users to use, meaning that it was well created. Another thing we could get from users is the improvements we could make, then when showing it to the teachers for the final review we could improve our product to make it as good possible fixing what the users wanted.\n",
    "\n",
    "For further reading I read this article: https://www.clickworker.com/customer-blog/data-crowdsourcing/ The main takeaways from this article are that, there is many benefits to using crowdsourcing. For example it can get you data which wouldn't be possible to get in a timely manner otherwise. The article also emphasizes making sure to use good particpaints who you can trust to give good data. You don't want to have your data be ruined by terrible data which could mess up your entire project."
   ]
  }
 ],
 "metadata": {
  "kernelspec": {
   "display_name": "Python 3.10.6 64-bit",
   "language": "python",
   "name": "python3"
  },
  "language_info": {
   "name": "python",
   "version": "3.10.6"
  },
  "orig_nbformat": 4,
  "vscode": {
   "interpreter": {
    "hash": "b0fa6594d8f4cbf19f97940f81e996739fb7646882a419484c72d19e05852a7e"
   }
  }
 },
 "nbformat": 4,
 "nbformat_minor": 2
}
