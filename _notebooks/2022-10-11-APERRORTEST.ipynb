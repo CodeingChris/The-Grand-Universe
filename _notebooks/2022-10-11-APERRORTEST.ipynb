{
 "cells": [
  {
   "cell_type": "markdown",
   "metadata": {},
   "source": [
    "# AP Error Testing\n",
    "\n",
    "- Title: AP Error Testing\n",
    "- Toc: True\n",
    "- Badges:True\n",
    "- Comments: False\n",
    "- Author: Christopher Albertson\n",
    "- Categories: [fastpagdges,jupyter]"
   ]
  },
  {
   "cell_type": "code",
   "execution_count": 1,
   "metadata": {},
   "outputs": [
    {
     "name": "stdout",
     "output_type": "stream",
     "text": [
      "Menu\n",
      "burger  $3.99\n",
      "fries  $1.99\n",
      "drink  $0.99\n",
      "\n",
      "input incorrect, please try again\n",
      "burger\n",
      "burger\n",
      "fries\n",
      "drink\n",
      "done\n",
      "your total: $10.96\n"
     ]
    }
   ],
   "source": [
    "menu =  {\"burger\": 3.99,\n",
    "         \"fries\": 1.99,\n",
    "         \"drink\": 0.99}\n",
    "total = 0\n",
    "ordering = True\n",
    "\n",
    "#shows the user the menu and prompts them to select an item\n",
    "print(\"Menu\")\n",
    "for k,v in menu.items():\n",
    "    print(k + \"  $\" + str(v)) #why does v have \"str\" in front of it?\n",
    "\n",
    "while ordering == True:\n",
    "    item = input(\"Please select an item from the menu or select 'done'\")\n",
    "    print(item)\n",
    "    if item == \"done\": # checks if you are done with your order\n",
    "        ordering = False\n",
    "    elif item in menu: # checks if key exists in menu dictionary\n",
    "        total += menu[item] # find any item from the dictionary and add its value to total\n",
    "    else:\n",
    "        print(\"input incorrect, please try again\") # if you misspelled a word then you can re-enter the word\n",
    "\n",
    "#code should add the price of the menu items selected by the user \n",
    "print(\"your total: $\" + str(total))"
   ]
  }
 ],
 "metadata": {
  "kernelspec": {
   "display_name": "Python 3.10.6 64-bit",
   "language": "python",
   "name": "python3"
  },
  "language_info": {
   "codemirror_mode": {
    "name": "ipython",
    "version": 3
   },
   "file_extension": ".py",
   "mimetype": "text/x-python",
   "name": "python",
   "nbconvert_exporter": "python",
   "pygments_lexer": "ipython3",
   "version": "3.10.6"
  },
  "orig_nbformat": 4,
  "vscode": {
   "interpreter": {
    "hash": "b0fa6594d8f4cbf19f97940f81e996739fb7646882a419484c72d19e05852a7e"
   }
  }
 },
 "nbformat": 4,
 "nbformat_minor": 2
}
