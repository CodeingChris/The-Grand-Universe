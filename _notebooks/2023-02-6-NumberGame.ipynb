{
 "cells": [
  {
   "cell_type": "code",
   "execution_count": 1,
   "metadata": {},
   "outputs": [
    {
     "name": "stdout",
     "output_type": "stream",
     "text": [
      "Welcome to the Number Guessing Game!\n",
      "Too high, try again.\n",
      "Too high, try again.\n",
      "Too high, try again.\n",
      "Too low, try again.\n",
      "Too high, try again.\n",
      "You got it in 6 attempts!\n"
     ]
    }
   ],
   "source": [
    "import random\n",
    "\n",
    "def game():\n",
    "  target = random.randint(1, 100)\n",
    "  guess = None\n",
    "  attempts = 0\n",
    "  \n",
    "  while guess != target:\n",
    "    guess = int(input(\"Guess a number between 1 and 100: \"))\n",
    "    attempts += 1\n",
    "    if guess < target:\n",
    "      print(\"Too low, try again.\")\n",
    "    elif guess > target:\n",
    "      print(\"Too high, try again.\")\n",
    "    else:\n",
    "      print(f\"You got it in {attempts} attempts!\")\n",
    "\n",
    "if __name__ == '__main__':\n",
    "  print(\"Welcome to the Number Guessing Game!\")\n",
    "  game()\n"
   ]
  }
 ],
 "metadata": {
  "kernelspec": {
   "display_name": "Python 3.10.6 64-bit",
   "language": "python",
   "name": "python3"
  },
  "language_info": {
   "codemirror_mode": {
    "name": "ipython",
    "version": 3
   },
   "file_extension": ".py",
   "mimetype": "text/x-python",
   "name": "python",
   "nbconvert_exporter": "python",
   "pygments_lexer": "ipython3",
   "version": "3.10.6"
  },
  "orig_nbformat": 4,
  "vscode": {
   "interpreter": {
    "hash": "b0fa6594d8f4cbf19f97940f81e996739fb7646882a419484c72d19e05852a7e"
   }
  }
 },
 "nbformat": 4,
 "nbformat_minor": 2
}
