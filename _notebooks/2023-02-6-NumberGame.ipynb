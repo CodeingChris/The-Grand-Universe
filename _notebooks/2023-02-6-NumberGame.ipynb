{
 "cells": [
  {
   "cell_type": "code",
   "execution_count": 3,
   "metadata": {},
   "outputs": [
    {
     "name": "stdout",
     "output_type": "stream",
     "text": [
      "Welcome to the Number Guessing Game!\n",
      "Too low, try again.\n"
     ]
    }
   ],
   "source": [
    "import random\n",
    "\n",
    "def game():\n",
    "  target = random.randint(1, 100)\n",
    "  guess = None\n",
    "  attempts = 0\n",
    "  \n",
    "  while guess != target:\n",
    "    guess = int(input(\"Guess a number between 1 and 100: \"))\n",
    "    attempts += 1\n",
    "    if guess < target:\n",
    "      print(\"Too low, try again.\")\n",
    "    elif guess > target:\n",
    "      print(\"Too high, try again.\")\n",
    "    else:\n",
    "      print(f\"You got it in {attempts} attempts!\")\n",
    "\n",
    "if __name__ == '__main__':\n",
    "  print(\"Welcome to the Number Guessing Game!\")\n",
    "  game()\n"
   ]
  },
  {
   "cell_type": "code",
   "execution_count": 2,
   "metadata": {},
   "outputs": [
    {
     "ename": "ValueError",
     "evalue": "invalid literal for int() with base 10: 'Upper bound'",
     "output_type": "error",
     "traceback": [
      "\u001b[0;31m---------------------------------------------------------------------------\u001b[0m",
      "\u001b[0;31mValueError\u001b[0m                                Traceback (most recent call last)",
      "\u001b[1;32m/Users/chrisalbertson/Downloads/The-Grand-Universe/_notebooks/2023-02-6-NumberGame.ipynb Cell 2\u001b[0m in \u001b[0;36m<cell line: 7>\u001b[0;34m()\u001b[0m\n\u001b[1;32m      <a href='vscode-notebook-cell:/Users/chrisalbertson/Downloads/The-Grand-Universe/_notebooks/2023-02-6-NumberGame.ipynb#W1sZmlsZQ%3D%3D?line=3'>4</a>\u001b[0m lower \u001b[39m=\u001b[39m \u001b[39mint\u001b[39m(\u001b[39minput\u001b[39m(\u001b[39m\"\u001b[39m\u001b[39mEnter Lower bound:- \u001b[39m\u001b[39m\"\u001b[39m))\n\u001b[1;32m      <a href='vscode-notebook-cell:/Users/chrisalbertson/Downloads/The-Grand-Universe/_notebooks/2023-02-6-NumberGame.ipynb#W1sZmlsZQ%3D%3D?line=5'>6</a>\u001b[0m \u001b[39m# Taking Inputs\u001b[39;00m\n\u001b[0;32m----> <a href='vscode-notebook-cell:/Users/chrisalbertson/Downloads/The-Grand-Universe/_notebooks/2023-02-6-NumberGame.ipynb#W1sZmlsZQ%3D%3D?line=6'>7</a>\u001b[0m upper \u001b[39m=\u001b[39m \u001b[39mint\u001b[39;49m(\u001b[39minput\u001b[39;49m(\u001b[39m\"\u001b[39;49m\u001b[39mEnter Upper bound:- \u001b[39;49m\u001b[39m\"\u001b[39;49m))\n\u001b[1;32m      <a href='vscode-notebook-cell:/Users/chrisalbertson/Downloads/The-Grand-Universe/_notebooks/2023-02-6-NumberGame.ipynb#W1sZmlsZQ%3D%3D?line=8'>9</a>\u001b[0m \u001b[39m# generating random number between\u001b[39;00m\n\u001b[1;32m     <a href='vscode-notebook-cell:/Users/chrisalbertson/Downloads/The-Grand-Universe/_notebooks/2023-02-6-NumberGame.ipynb#W1sZmlsZQ%3D%3D?line=9'>10</a>\u001b[0m \u001b[39m# the lower and upper\u001b[39;00m\n\u001b[1;32m     <a href='vscode-notebook-cell:/Users/chrisalbertson/Downloads/The-Grand-Universe/_notebooks/2023-02-6-NumberGame.ipynb#W1sZmlsZQ%3D%3D?line=10'>11</a>\u001b[0m x \u001b[39m=\u001b[39m random\u001b[39m.\u001b[39mrandint(lower, upper)\n",
      "\u001b[0;31mValueError\u001b[0m: invalid literal for int() with base 10: 'Upper bound'"
     ]
    }
   ],
   "source": [
    "import random\n",
    "import math\n",
    "# Taking Inputs\n",
    "lower = int(input(\"Enter Lower bound:- \"))\n",
    " \n",
    "# Taking Inputs\n",
    "upper = int(input(\"Enter Upper bound:- \"))\n",
    " \n",
    "# generating random number between\n",
    "# the lower and upper\n",
    "x = random.randint(lower, upper)\n",
    "print(\"\\n\\tYou've only \",\n",
    "       round(math.log(upper - lower + 1, 2)),\n",
    "      \" chances to guess the integer!\\n\")\n",
    " \n",
    "# Initializing the number of guesses.\n",
    "count = 0\n",
    " \n",
    "# for calculation of minimum number of\n",
    "# guesses depends upon range\n",
    "while count < math.log(upper - lower + 1, 2):\n",
    "    count += 1\n",
    " \n",
    "    # taking guessing number as input\n",
    "    guess = int(input(\"Guess a number:- \"))\n",
    " \n",
    "    # Condition testing\n",
    "    if x == guess:\n",
    "        print(\"Congratulations you did it in \",\n",
    "              count, \" try\")\n",
    "        # Once guessed, loop will break\n",
    "        break\n",
    "    elif x > guess:\n",
    "        print(\"You guessed too small!\")\n",
    "    elif x < guess:\n",
    "        print(\"You Guessed too high!\")\n",
    " \n",
    "# If Guessing is more than required guesses,\n",
    "# shows this output.\n",
    "if count >= math.log(upper - lower + 1, 2):\n",
    "    print(\"\\nThe number is %d\" % x)\n",
    "    print(\"\\tBetter Luck Next time!\")\n",
    " \n",
    "# Better to use This source Code on pycharm!"
   ]
  }
 ],
 "metadata": {
  "kernelspec": {
   "display_name": "Python 3.10.6 64-bit",
   "language": "python",
   "name": "python3"
  },
  "language_info": {
   "codemirror_mode": {
    "name": "ipython",
    "version": 3
   },
   "file_extension": ".py",
   "mimetype": "text/x-python",
   "name": "python",
   "nbconvert_exporter": "python",
   "pygments_lexer": "ipython3",
   "version": "3.10.6"
  },
  "orig_nbformat": 4,
  "vscode": {
   "interpreter": {
    "hash": "b0fa6594d8f4cbf19f97940f81e996739fb7646882a419484c72d19e05852a7e"
   }
  }
 },
 "nbformat": 4,
 "nbformat_minor": 2
}
